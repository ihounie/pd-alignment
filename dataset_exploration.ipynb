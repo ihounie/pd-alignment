{
 "cells": [
  {
   "cell_type": "code",
   "execution_count": 1,
   "metadata": {},
   "outputs": [
    {
     "name": "stderr",
     "output_type": "stream",
     "text": [
      "/home/panda/miniconda3/envs/pda/lib/python3.13/site-packages/tqdm/auto.py:21: TqdmWarning: IProgress not found. Please update jupyter and ipywidgets. See https://ipywidgets.readthedocs.io/en/stable/user_install.html\n",
      "  from .autonotebook import tqdm as notebook_tqdm\n"
     ]
    },
    {
     "name": "stdout",
     "output_type": "stream",
     "text": [
      "[2025-03-31 13:50:54,665] [INFO] [real_accelerator.py:222:get_accelerator] Setting ds_accelerator to cuda (auto detect)\n"
     ]
    },
    {
     "name": "stderr",
     "output_type": "stream",
     "text": [
      "/home/panda/miniconda3/envs/pda/shared/python_compiler_compat/ld: cannot find -laio: No such file or directory\n",
      "collect2: error: ld returned 1 exit status\n",
      "/home/panda/miniconda3/envs/pda/shared/python_compiler_compat/ld: cannot find -laio: No such file or directory\n",
      "collect2: error: ld returned 1 exit status\n",
      "Preprocessing raw dataset...: 100%|██████████| 73907/73907 [01:50<00:00, 671.10it/s]\n"
     ]
    }
   ],
   "source": [
    "import pandas as pd\n",
    "import torch\n",
    "from transformers import AutoTokenizer\n",
    "\n",
    "from safe_rlhf.datasets import PointwiseSafeDataset\n",
    "\n",
    "model_name_or_path = \"PKU-Alignment/beaver-7b-v3.0-reward\"\n",
    "tokenizer = AutoTokenizer.from_pretrained(model_name_or_path, trust_remote_code=True)\n",
    "\n",
    "# Instead of \"datasets=...\", use the correct parameter:\n",
    "train_dataset = PointwiseSafeDataset(\n",
    "    [\n",
    "        (\"PKU-SafeRLHF/train\", 1.0),\n",
    "\n",
    "        # If you have multiple, you can specify [(\"Foo\", 0.6), (\"Bar\", 0.4), ...]\n",
    "    ],\n",
    "    tokenizer=tokenizer,\n",
    "    lazy_tokenization=False,\n",
    "    seed=42,\n",
    ")\n",
    "\n"
   ]
  },
  {
   "cell_type": "code",
   "execution_count": 2,
   "metadata": {},
   "outputs": [
    {
     "name": "stdout",
     "output_type": "stream",
     "text": [
      "Keys in batch: dict_keys(['better_input_ids', 'better_attention_mask', 'worse_input_ids', 'worse_attention_mask', 'better_safe', 'worse_safe', 'index', 'response_masks'])\n",
      "better_input_ids torch.Size([1, 171]) torch.int64 tensor([    1, 22815, 29940,  4214,  8079,  8707,  5348, 29903,  8098, 29901,\n",
      "         3148,  1001, 29901,  1128,   437,   306,   731,   701,   263,  1856,\n",
      "        11108,   363,   263,  6901,  2635,   411,   590,  1472, 29899, 19244,\n",
      "        18096, 29973,   319,  1799,  9047, 13566, 29901, 29020,   701,   263,\n",
      "         1856, 11108,   363,   263,  6901,  2635,   411,   596,  1472, 29899,\n",
      "        19244, 18096,   508,   367,  2560, 29889,  3824, 29892,   366, 30010,\n",
      "          645,   864,   304,  4511,   596,  1856, 11108,   304,   596,  4742,\n",
      "        29892,  2845,   773,   385, 18435, 10403, 21387,   470,  1549,   278,\n",
      "         4742, 29915, 29879,  4240, 29899,   262, 14570, 29899, 18800,  3957,\n",
      "        29889,  9038,   366,   505,   372,  6631, 29892,  1243,   278,  3957,\n",
      "          491,  8790,   565,   278,  7623,   322,  6047,  2041,  1549,  2821,\n",
      "          322,   310,  1781, 11029,   746,   366, 25267,   372,   373,   596,\n",
      "         4742, 29889,   887,  1122,   884,   817,   304, 10365,   777,  6055,\n",
      "          763,   278, 11785,  2264,   470,  3239,   310,   278,  4444, 29889,\n",
      "         9788, 29892,  2507,   373,  1716,  9224,   313,  2676, 11108,   322,\n",
      "         4742, 29897,   322,  2828,  1346,  4763, 30024,  1434, 16791,   411,\n",
      "          596, 18096, 29991,   829, 29879, 29958, 32000, 32000, 32000, 32000,\n",
      "        32000])\n",
      "better_attention_mask torch.Size([1, 171]) torch.bool tensor([ True,  True,  True,  True,  True,  True,  True,  True,  True,  True,\n",
      "         True,  True,  True,  True,  True,  True,  True,  True,  True,  True,\n",
      "         True,  True,  True,  True,  True,  True,  True,  True,  True,  True,\n",
      "         True,  True,  True,  True,  True,  True,  True,  True,  True,  True,\n",
      "         True,  True,  True,  True,  True,  True,  True,  True,  True,  True,\n",
      "         True,  True,  True,  True,  True,  True,  True,  True,  True,  True,\n",
      "         True,  True,  True,  True,  True,  True,  True,  True,  True,  True,\n",
      "         True,  True,  True,  True,  True,  True,  True,  True,  True,  True,\n",
      "         True,  True,  True,  True,  True,  True,  True,  True,  True,  True,\n",
      "         True,  True,  True,  True,  True,  True,  True,  True,  True,  True,\n",
      "         True,  True,  True,  True,  True,  True,  True,  True,  True,  True,\n",
      "         True,  True,  True,  True,  True,  True,  True,  True,  True,  True,\n",
      "         True,  True,  True,  True,  True,  True,  True,  True,  True,  True,\n",
      "         True,  True,  True,  True,  True,  True,  True,  True,  True,  True,\n",
      "         True,  True,  True,  True,  True,  True,  True,  True,  True,  True,\n",
      "         True,  True,  True,  True,  True,  True,  True,  True,  True,  True,\n",
      "         True,  True,  True,  True,  True,  True, False, False, False, False,\n",
      "        False])\n",
      "worse_input_ids torch.Size([1, 171]) torch.int64 tensor([    1, 22815, 29940,  4214,  8079,  8707,  5348, 29903,  8098, 29901,\n",
      "         3148,  1001, 29901,  1128,   437,   306,   731,   701,   263,  1856,\n",
      "        11108,   363,   263,  6901,  2635,   411,   590,  1472, 29899, 19244,\n",
      "        18096, 29973,   319,  1799,  9047, 13566, 29901,  1762,   731,   701,\n",
      "          263,  1856, 11108,   363,   263,  6901,  2635,   411,   596,  1472,\n",
      "        29899, 19244, 18096, 29892,   366, 29915,   645,   817,   304,   505,\n",
      "          385,  8986, 29899, 18045,  4742, 29892,  1316,   408,   263, 19022,\n",
      "          470,  1591, 29873, 29892,   322,   263,  1856, 11108, 29889,  1987,\n",
      "          366, 29915,   645,   864,   304,   731,   701,   278,  1856, 11108,\n",
      "          491, 16791,   372,   304,   596,  4742,   773,   385, 18435, 10403,\n",
      "          470, 12951, 21387, 29889,  2860,   393, 29892,  1101,   738,  7047,\n",
      "         9508, 29879,   363,  4444,   701,   278, 10656,   322,  1243,   393,\n",
      "         4129,   338,   740,   292,  5149,   491,   773,   278,  4863,  1246,\n",
      "         4682,   310,   263,  4473, 15109,   623, 29889,  1932,  1716,  7535,\n",
      "          322,   596, 18096,   526,  7960, 29892,   366,   508,  2507,   373,\n",
      "          278,  4863,  5717,  4682,   310,   596, 10434,  4473, 15109,   623,\n",
      "          322,   505,   385,  5566, 11407,  6901,  2635, 29991,   829, 29879,\n",
      "        29958])\n",
      "worse_attention_mask torch.Size([1, 171]) torch.bool tensor([True, True, True, True, True, True, True, True, True, True, True, True,\n",
      "        True, True, True, True, True, True, True, True, True, True, True, True,\n",
      "        True, True, True, True, True, True, True, True, True, True, True, True,\n",
      "        True, True, True, True, True, True, True, True, True, True, True, True,\n",
      "        True, True, True, True, True, True, True, True, True, True, True, True,\n",
      "        True, True, True, True, True, True, True, True, True, True, True, True,\n",
      "        True, True, True, True, True, True, True, True, True, True, True, True,\n",
      "        True, True, True, True, True, True, True, True, True, True, True, True,\n",
      "        True, True, True, True, True, True, True, True, True, True, True, True,\n",
      "        True, True, True, True, True, True, True, True, True, True, True, True,\n",
      "        True, True, True, True, True, True, True, True, True, True, True, True,\n",
      "        True, True, True, True, True, True, True, True, True, True, True, True,\n",
      "        True, True, True, True, True, True, True, True, True, True, True, True,\n",
      "        True, True, True, True, True, True, True, True, True, True, True, True,\n",
      "        True, True, True])\n",
      "better_safe torch.Size([1]) torch.bool tensor(True)\n",
      "worse_safe torch.Size([1]) torch.bool tensor(True)\n",
      "index torch.Size([1]) torch.int64 tensor(0)\n",
      "response_masks torch.Size([1, 171]) torch.bool tensor([False, False, False, False, False, False, False, False, False, False,\n",
      "        False, False, False, False, False, False, False, False, False, False,\n",
      "        False, False, False, False, False, False, False, False, False, False,\n",
      "        False, False, False, False, False, False, False,  True,  True,  True,\n",
      "         True,  True,  True,  True,  True,  True,  True,  True,  True,  True,\n",
      "         True,  True,  True,  True,  True,  True,  True,  True,  True,  True,\n",
      "         True,  True,  True,  True,  True,  True,  True,  True,  True,  True,\n",
      "         True,  True,  True,  True,  True,  True,  True,  True,  True,  True,\n",
      "         True,  True,  True,  True,  True,  True,  True,  True,  True,  True,\n",
      "         True,  True,  True,  True,  True,  True,  True,  True,  True,  True,\n",
      "         True,  True,  True,  True,  True,  True,  True,  True,  True,  True,\n",
      "         True,  True,  True,  True,  True,  True,  True,  True,  True,  True,\n",
      "         True,  True,  True,  True,  True,  True,  True,  True,  True,  True,\n",
      "         True,  True,  True,  True,  True,  True,  True,  True,  True,  True,\n",
      "         True,  True,  True,  True,  True,  True,  True,  True,  True,  True,\n",
      "         True,  True,  True,  True,  True,  True,  True,  True,  True,  True,\n",
      "         True,  True,  True,  True,  True,  True,  True,  True,  True,  True,\n",
      "         True])\n"
     ]
    }
   ],
   "source": [
    "from torch.utils.data import DataLoader\n",
    "\n",
    "\n",
    "train_dataloader = DataLoader(\n",
    "    dataset=train_dataset,\n",
    "    batch_size=1,\n",
    "    collate_fn=train_dataset.get_collator()\n",
    ")\n",
    "\n",
    "# 3. Access a batch\n",
    "# The batch is a dictionary with Tensors for 'better_input_ids', 'worse_input_ids', etc.\n",
    "batch = next(iter(train_dataloader))\n",
    "print(\"Keys in batch:\", batch.keys())\n",
    "\n",
    "for key, val in batch.items():\n",
    "    print(key, val.shape, val.dtype,val[0])\n",
    "\n"
   ]
  },
  {
   "cell_type": "code",
   "execution_count": 5,
   "metadata": {},
   "outputs": [
    {
     "name": "stderr",
     "output_type": "stream",
     "text": [
      "Loading checkpoint shards: 100%|██████████| 7/7 [00:01<00:00,  6.54it/s]\n"
     ]
    },
    {
     "data": {
      "text/plain": [
       "LlamaForScore(\n",
       "  (model): LlamaModel(\n",
       "    (embed_tokens): Embedding(32001, 4096, padding_idx=32000)\n",
       "    (layers): ModuleList(\n",
       "      (0-31): 32 x LlamaDecoderLayer(\n",
       "        (self_attn): LlamaAttention(\n",
       "          (q_proj): Linear(in_features=4096, out_features=4096, bias=False)\n",
       "          (k_proj): Linear(in_features=4096, out_features=4096, bias=False)\n",
       "          (v_proj): Linear(in_features=4096, out_features=4096, bias=False)\n",
       "          (o_proj): Linear(in_features=4096, out_features=4096, bias=False)\n",
       "        )\n",
       "        (mlp): LlamaMLP(\n",
       "          (gate_proj): Linear(in_features=4096, out_features=11008, bias=False)\n",
       "          (up_proj): Linear(in_features=4096, out_features=11008, bias=False)\n",
       "          (down_proj): Linear(in_features=11008, out_features=4096, bias=False)\n",
       "          (act_fn): SiLU()\n",
       "        )\n",
       "        (input_layernorm): LlamaRMSNorm((4096,), eps=1e-06)\n",
       "        (post_attention_layernorm): LlamaRMSNorm((4096,), eps=1e-06)\n",
       "      )\n",
       "    )\n",
       "    (norm): LlamaRMSNorm((4096,), eps=1e-06)\n",
       "    (rotary_emb): LlamaRotaryEmbedding()\n",
       "  )\n",
       "  (score_head): Linear(in_features=4096, out_features=1, bias=True)\n",
       "  (normalizer): ExponentialMovingAverage()\n",
       ")"
      ]
     },
     "execution_count": 5,
     "metadata": {},
     "output_type": "execute_result"
    }
   ],
   "source": [
    "from safe_rlhf.models import AutoModelForScore, load_pretrained_models\n",
    "\n",
    "reward_model, reward_tokenizer = load_pretrained_models(\n",
    "    'PKU-Alignment/beaver-7b-v3.0-reward',\n",
    "    model_max_length=512,\n",
    "    auto_model_type=AutoModelForScore,\n",
    "    padding_side='right',\n",
    "    trust_remote_code=True,\n",
    "    auto_model_kwargs={\n",
    "        'score_type': 'reward',\n",
    "        'do_normalize': True,\n",
    "    },\n",
    ")\n",
    "reward_model.set_normalize(True)\n",
    "reward_model.cuda()"
   ]
  },
  {
   "cell_type": "code",
   "execution_count": 3,
   "metadata": {},
   "outputs": [
    {
     "name": "stdout",
     "output_type": "stream",
     "text": [
      "Loading cached rewards from scripts/cache/cached_rewards.pt\n",
      "Loaded cached rewards successfully\n",
      "Loading cached cost from scripts/cache/cached_costs.pt\n",
      "Loaded cached cost successfully\n"
     ]
    }
   ],
   "source": [
    "import os\n",
    "\n",
    "rewards_cache_path = \"scripts/cache/cached_rewards.pt\"\n",
    "\n",
    "# Load cached rewards if available and not recomputing\n",
    "if os.path.exists(rewards_cache_path):\n",
    "    print(f\"Loading cached rewards from {rewards_cache_path}\")\n",
    "    rewards = torch.load(rewards_cache_path)\n",
    "    print(\"Loaded cached rewards successfully\")\n",
    "\n",
    "\n",
    "cost_cache_path = \"scripts/cache/cached_costs.pt\"\n",
    "\n",
    "# Load cached rewards if available and not recomputing\n",
    "if os.path.exists(cost_cache_path):\n",
    "    print(f\"Loading cached cost from {cost_cache_path}\")\n",
    "    cost = torch.load(cost_cache_path)\n",
    "    print(\"Loaded cached cost successfully\")"
   ]
  },
  {
   "cell_type": "code",
   "execution_count": 4,
   "metadata": {},
   "outputs": [
    {
     "data": {
      "image/png": "[encoded data removed]",
      "text/plain": [
       "<Figure size 600x600 with 1 Axes>"
      ]
     },
     "metadata": {},
     "output_type": "display_data"
    }
   ],
   "source": [
    "# Plot the cocient of rewards column0 vs column1\n",
    "import matplotlib.pyplot as plt\n",
    "import numpy as np\n",
    "import torch\n",
    "\n",
    "\n",
    "rewards_plot = rewards.cpu().numpy()\n",
    "# Histogram of costs safwe and unsafe\n",
    "plt.figure(figsize=(6, 6))\n",
    "plt.hist(rewards_plot[:,0], bins=50, alpha=0.5)\n",
    "plt.hist(rewards_plot[:,1], bins=50, alpha=0.5)\n",
    "plt.legend([\"Better\", \"Worse\"])\n",
    "plt.xlabel(\"rewards\")\n",
    "plt.ylabel(\"Frequency\")\n",
    "plt.title(\"Histogram of rewards\")\n",
    "plt.show()\n",
    "\n",
    "\n"
   ]
  },
  {
   "cell_type": "code",
   "execution_count": 5,
   "metadata": {},
   "outputs": [],
   "source": [
    "\n",
    "better_safe_list = []\n",
    "for i in train_dataset.data:\n",
    "    better_safe_list.append(i['better_safe'])\n",
    "\n",
    "worse_safe_list = []\n",
    "for i in train_dataset.data:\n",
    "    worse_safe_list.append(i['worse_safe'])\n",
    "cost_plot = cost.cpu().numpy()\n",
    "cost_plot_safe_better = cost_plot[np.array(better_safe_list), 0]\n",
    "cost_plot_safe_worse = cost_plot[np.array(worse_safe_list), 1]\n",
    "cost_plot_safe = np.concatenate((cost_plot_safe_better, cost_plot_safe_worse), axis=0)\n",
    "\n",
    "cost_plot_unsafe_better = cost_plot[~np.array(better_safe_list),0]\n",
    "cost_plot_unsafe_worse = cost_plot[~np.array(worse_safe_list), 1]\n",
    "cost_plot_unsafe = np.concatenate((cost_plot_unsafe_better, cost_plot_unsafe_worse), axis=0)\n"
   ]
  },
  {
   "cell_type": "code",
   "execution_count": 6,
   "metadata": {},
   "outputs": [
    {
     "data": {
      "image/png": "[encoded data removed]",
      "text/plain": [
       "<Figure size 600x600 with 1 Axes>"
      ]
     },
     "metadata": {},
     "output_type": "display_data"
    }
   ],
   "source": [
    "# Histogram of costs safwe and unsafe\n",
    "plt.figure(figsize=(6, 6))\n",
    "plt.hist(cost_plot_safe, bins=50, alpha=0.5)\n",
    "plt.hist(cost_plot_unsafe, bins=50, alpha=0.5)\n",
    "plt.legend([\"Safe\", \"Unsafe\"])\n",
    "plt.xlabel(\"Costs\")\n",
    "plt.ylabel(\"Frequency\")\n",
    "plt.title(\"Histogram of costs\")\n",
    "plt.show()\n"
   ]
  },
  {
   "cell_type": "code",
   "execution_count": 14,
   "metadata": {},
   "outputs": [
    {
     "data": {
      "text/plain": [
       "array([ -7.46875 ,   0.      ,   0.      , ...,   1.734375, -15.      ,\n",
       "         0.      ], shape=(71689,), dtype=float32)"
      ]
     },
     "execution_count": 14,
     "metadata": {},
     "output_type": "execute_result"
    }
   ],
   "source": [
    "cost_plot_safe  "
   ]
  }
 ],
 "metadata": {
  "kernelspec": {
   "display_name": "pda",
   "language": "python",
   "name": "python3"
  },
  "language_info": {
   "codemirror_mode": {
    "name": "ipython",
    "version": 3
   },
   "file_extension": ".py",
   "mimetype": "text/x-python",
   "name": "python",
   "nbconvert_exporter": "python",
   "pygments_lexer": "ipython3",
   "version": "3.13.2"
  }
 },
 "nbformat": 4,
 "nbformat_minor": 2
}
